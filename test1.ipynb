{
  "nbformat": 4,
  "nbformat_minor": 0,
  "metadata": {
    "colab": {
      "provenance": [],
      "authorship_tag": "ABX9TyOzPC8XuizE3yuB63xBuCsM",
      "include_colab_link": true
    },
    "kernelspec": {
      "name": "python3",
      "display_name": "Python 3"
    },
    "language_info": {
      "name": "python"
    }
  },
  "cells": [
    {
      "cell_type": "markdown",
      "metadata": {
        "id": "view-in-github",
        "colab_type": "text"
      },
      "source": [
        "<a href=\"https://colab.research.google.com/github/kairos108/technical-discussion/blob/main/test1.ipynb\" target=\"_parent\"><img src=\"https://colab.research.google.com/assets/colab-badge.svg\" alt=\"Open In Colab\"/></a>"
      ]
    },
    {
      "cell_type": "code",
      "execution_count": 1,
      "metadata": {
        "colab": {
          "base_uri": "https://localhost:8080/"
        },
        "id": "MH9AEmIhvH51",
        "outputId": "23b2ec5d-d0c5-470c-8afb-8f54205390e5"
      },
      "outputs": [
        {
          "output_type": "stream",
          "name": "stdout",
          "text": [
            "Hello\n"
          ]
        }
      ],
      "source": [
        "def hello():\n",
        "  print(\"Hello\");\n",
        "hello();"
      ]
    },
    {
      "cell_type": "markdown",
      "source": [
        "# This is a heading1.\n",
        "## This is a heading2.\n",
        "### This is a heading3.\n",
        "* this is a bulletpoint\n",
        "* so is this.\n",
        "* and this."
      ],
      "metadata": {
        "id": "ECvezSbuvuEa"
      }
    },
    {
      "cell_type": "markdown",
      "source": [
        "# Another heading1."
      ],
      "metadata": {
        "id": "26ihBrEQvVxP"
      }
    },
    {
      "cell_type": "code",
      "source": [
        "def hi():\n",
        "  return \"hi\";\n",
        "hi();"
      ],
      "metadata": {
        "id": "y9HEvinKwLWQ"
      },
      "execution_count": 2,
      "outputs": []
    }
  ]
}